{
 "cells": [
  {
   "cell_type": "markdown",
   "metadata": {},
   "source": [
    "Un Asteroide se acerca, y viaja a una velocidad de 49 km/s"
   ]
  },
  {
   "cell_type": "code",
   "execution_count": 1,
   "metadata": {},
   "outputs": [
    {
     "name": "stdout",
     "output_type": "stream",
     "text": [
      "Advertencia se acerca un asteroide\n"
     ]
    }
   ],
   "source": [
    "Ast = 49\n",
    "\n",
    "if Ast > 25:\n",
    "    print (\"Advertencia se acerca un asteroide\")\n",
    "else:\n",
    "    print(\"No hay peligro\")"
   ]
  },
  {
   "cell_type": "code",
   "execution_count": 4,
   "metadata": {},
   "outputs": [
    {
     "name": "stdout",
     "output_type": "stream",
     "text": [
      "No hay peligro\n"
     ]
    }
   ],
   "source": [
    "Ast2 = 19\n",
    "if Ast2 >= 20:\n",
    "    print(\"Advertencia un asteroide se aproxima\")\n",
    "else:\n",
    "    print(\"No hay peligro\")"
   ]
  },
  {
   "cell_type": "markdown",
   "metadata": {},
   "source": [
    "Ejercicio: Uso de operadores AND y OR"
   ]
  },
  {
   "cell_type": "code",
   "execution_count": 13,
   "metadata": {},
   "outputs": [
    {
     "name": "stdout",
     "output_type": "stream",
     "text": [
      "Bienvenido a la alerta de asteroide\n",
      "Mira en el cielo se ve una luz\n",
      "Peligro! el tamaño es de 26 Kilometros  la velocidad es de 26 km/s\n"
     ]
    }
   ],
   "source": [
    "print(\"Bienvenido a la alerta de asteroide\")\n",
    "Ast_tamano = int(input(\"Cual es el tamaño del asteroide\"))\n",
    "Ast_velocidad = int(input(\"Cual es la velocidad del meteorito\"))\n",
    "\n",
    "if Ast_velocidad >= 20 or Ast_tamano >= 25:\n",
    "    print(\"Mira en el cielo se ve una luz\") \n",
    "    if Ast_tamano > 25 and Ast_velocidad > 25:\n",
    "        print (\"Peligro! el tamaño es de \" + str(Ast_tamano) + \" Kilometros \" + \" la velocidad es de \" + str(Ast_velocidad) + \" km/s\")\n",
    "else:\n",
    "    print(\"No hay de que preocuparse\")"
   ]
  }
 ],
 "metadata": {
  "interpreter": {
   "hash": "9ca3068a01d4816a8eddff3cc66942d38fe1510ebd3e0618f1268f77e2db91a5"
  },
  "kernelspec": {
   "display_name": "Python 3.10.2 64-bit",
   "language": "python",
   "name": "python3"
  },
  "language_info": {
   "codemirror_mode": {
    "name": "ipython",
    "version": 3
   },
   "file_extension": ".py",
   "mimetype": "text/x-python",
   "name": "python",
   "nbconvert_exporter": "python",
   "pygments_lexer": "ipython3",
   "version": "3.10.2"
  },
  "orig_nbformat": 4
 },
 "nbformat": 4,
 "nbformat_minor": 2
}
