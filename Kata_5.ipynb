{
 "cells": [
  {
   "cell_type": "code",
   "execution_count": 5,
   "metadata": {},
   "outputs": [
    {
     "name": "stdout",
     "output_type": "stream",
     "text": [
      "628949330 Kilometros\n",
      "390577533.93 Millas\n"
     ]
    }
   ],
   "source": [
    "distance_earth = 149597870\n",
    "distance_jupiter = 778547200\n",
    "\n",
    "distance_total = distance_earth -   distance_jupiter\n",
    "print(str(abs(distance_total)) +  \" Kilometros\")\n",
    "print(str(abs(distance_total * 0.621)) +  \" Millas\")"
   ]
  },
  {
   "cell_type": "code",
   "execution_count": 6,
   "metadata": {},
   "outputs": [
    {
     "name": "stdout",
     "output_type": "stream",
     "text": [
      "Hola Luisla distancia a Tierra es de 0 kilometros y en millas son 0.0\n"
     ]
    }
   ],
   "source": [
    "name = input(\"¿Cual es tu Nombre\")\n",
    "planet = input (\"¿Cual es el planeta?\")\n",
    "distance_1 = int(input (\"¿Cual es la distancia del primer planeta? (En kilometros)\"))\n",
    "distance_2 = int(input(\"¿Cual es la distancia del segundo planeta? (En kilometros)\"))\n",
    "finally_distance = abs(distance_1-distance_2)\n",
    "finally_distance_miles = finally_distance * 0.621\n",
    "print(\"Hola \" + str(name) + \" la distancia a \" + planet + \" es de \" + str(finally_distance) + \" kilometros y en millas son \" + str(finally_distance_miles))\n",
    "\n"
   ]
  }
 ],
 "metadata": {
  "interpreter": {
   "hash": "9ca3068a01d4816a8eddff3cc66942d38fe1510ebd3e0618f1268f77e2db91a5"
  },
  "kernelspec": {
   "display_name": "Python 3.10.2 64-bit",
   "language": "python",
   "name": "python3"
  },
  "language_info": {
   "codemirror_mode": {
    "name": "ipython",
    "version": 3
   },
   "file_extension": ".py",
   "mimetype": "text/x-python",
   "name": "python",
   "nbconvert_exporter": "python",
   "pygments_lexer": "ipython3",
   "version": "3.10.2"
  },
  "orig_nbformat": 4
 },
 "nbformat": 4,
 "nbformat_minor": 2
}
