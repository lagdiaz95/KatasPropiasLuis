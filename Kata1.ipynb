{
 "cells": [
  {
   "cell_type": "markdown",
   "metadata": {},
   "source": [
    "Tu Primer Programa : Fecha  "
   ]
  },
  {
   "cell_type": "code",
   "execution_count": 6,
   "metadata": {},
   "outputs": [
    {
     "name": "stdout",
     "output_type": "stream",
     "text": [
      "Today is: 2022-02-09\n"
     ]
    }
   ],
   "source": [
    "from datetime import date\n",
    "date.today()\n",
    "print(\"Today is: \" + str(date.today()))"
   ]
  },
  {
   "cell_type": "markdown",
   "metadata": {},
   "source": [
    "Convertidor de Unidades"
   ]
  },
  {
   "cell_type": "code",
   "execution_count": 12,
   "metadata": {},
   "outputs": [
    {
     "name": "stdout",
     "output_type": "stream",
     "text": [
      "Hola Biemvenido al convertidor de unidades\n",
      "4 parsec, is 13.04624 light years.\n"
     ]
    }
   ],
   "source": [
    "print(\"Hola Biemvenido al convertidor de unidades\")\n",
    "parsec = input(\"Introduce el numero de parsec\")\n",
    "light_years = int(parsec) * 3.26156\n",
    "\n",
    "print(str(parsec) + \" parsec, is \" + str(light_years) + \" light years.\")"
   ]
  }
 ],
 "metadata": {
  "interpreter": {
   "hash": "9ca3068a01d4816a8eddff3cc66942d38fe1510ebd3e0618f1268f77e2db91a5"
  },
  "kernelspec": {
   "display_name": "Python 3.10.2 64-bit",
   "language": "python",
   "name": "python3"
  },
  "language_info": {
   "codemirror_mode": {
    "name": "ipython",
    "version": 3
   },
   "file_extension": ".py",
   "mimetype": "text/x-python",
   "name": "python",
   "nbconvert_exporter": "python",
   "pygments_lexer": "ipython3",
   "version": "3.10.2"
  },
  "orig_nbformat": 4
 },
 "nbformat": 4,
 "nbformat_minor": 2
}
